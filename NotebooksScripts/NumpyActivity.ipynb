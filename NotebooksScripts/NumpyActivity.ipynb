{
 "cells": [
  {
   "cell_type": "markdown",
   "metadata": {},
   "source": [
    "# Numpy\n",
    "\n",
    "We will be learning about some basic programming and data analysis using Numpy and Pandas. First up - NumPy\n",
    "\n",
    "NumPy is the fundamental package for scientific computing in Python. It is used across many fields inc. Mathematics, Engineering, Finance, Data Science, Artificial Intelligence, Machine Learning etc. Most scientific computing libraries will build on NumPy.\n",
    "\n",
    "Numpy provides functions to work with N-dimensional arrays and an assortment of routines for fast operations on such arrays: matrix mathematics, logical, shape manipulation, statistical operations, random simulation etc."
   ]
  },
  {
   "cell_type": "markdown",
   "metadata": {},
   "source": [
    "## Basic Numpy tools\n",
    "\n",
    "<img src=\"https://matteding.github.io/images/broadcasting-3d-scalar.gif\" width=\"400\" height=\"400\" align=\"left\"/>\n"
   ]
  },
  {
   "cell_type": "markdown",
   "metadata": {},
   "source": [
    "Here, we will exam some fairly simple tools in Numpy for the management of data and doing basic statistics. First, lets make sure numpy is imported:\n"
   ]
  },
  {
   "cell_type": "code",
   "execution_count": null,
   "metadata": {},
   "outputs": [],
   "source": [
    "import numpy as np"
   ]
  },
  {
   "cell_type": "markdown",
   "metadata": {},
   "source": [
    "### Array creation and Indexing\n",
    "\n",
    "In the cells below we will learn basic array creation and indexing\n"
   ]
  },
  {
   "cell_type": "code",
   "execution_count": null,
   "metadata": {},
   "outputs": [],
   "source": [
    "a = np.array([1, 2, 3])            # Create a simple array\n",
    "print(\"Numpy Array 'a':\\n\")\n",
    "print(type(a))                     # Prints type as recognised by Python\n",
    "print(a.shape)                     # Prints its shape\n",
    "print(a[0], a[1], a[2])            # Prints certain indexed values\n",
    "a[0] = 5                           # Change an element of the array\n",
    "print(a,\"\\n\")                   \n",
    "\n",
    "\n",
    "print(\"Numpy Array 'b':\\n\")\n",
    "b = np.array([[1,2,3],[4,5,6]])    # Create an array with more 'complexity'\n",
    "print(b.shape)\n",
    "print(b)                     \n",
    "print(b[0, 0], b[0, 1], b[1, 0])  \n"
   ]
  },
  {
   "cell_type": "markdown",
   "metadata": {},
   "source": [
    "### Array manipulation and mathematics\n",
    "Where numpy gets really powerful is its efficiency in array manipulation and mathematics."
   ]
  },
  {
   "cell_type": "code",
   "execution_count": null,
   "metadata": {},
   "outputs": [],
   "source": [
    "\n",
    "x = np.array([[1,2],[3,4]])\n",
    "y = np.array([[5,6],[7,8]])\n",
    "\n",
    "print(x + y,'\\n')\n",
    "print(x * y,'\\n') \n",
    "\n",
    "# numpy has many mathematical functions built in - accessed via dot notation\n",
    "print(np.sqrt(x),'\\n')\n",
    "print(np.dot(x, y),'\\n')\n",
    "print(np.cross(x, y),'\\n')"
   ]
  },
  {
   "cell_type": "markdown",
   "metadata": {},
   "source": [
    "Numpy also provides aggregation methods."
   ]
  },
  {
   "cell_type": "code",
   "execution_count": null,
   "metadata": {},
   "outputs": [],
   "source": [
    "print(x.sum())  # sum over the entire matrix\n",
    "print(y.mean(axis=1))  # mean of each row"
   ]
  },
  {
   "cell_type": "markdown",
   "metadata": {},
   "source": [
    "## Activity\n",
    "Your turn... <br>\n",
    "Add comments that explain what your code is doing"
   ]
  },
  {
   "cell_type": "markdown",
   "metadata": {},
   "source": [
    "#### 1) Create the following 3 x 4 array and call it 'c'\n",
    "\n",
    "[[ 1  2  3  4] <br>\n",
    " [ 5  6  7  8] <br>\n",
    " [ 9 10 11 12]] <br>"
   ]
  },
  {
   "cell_type": "code",
   "execution_count": null,
   "metadata": {},
   "outputs": [],
   "source": [
    "# Create the following 3 x 4 array and call it 'c':\n",
    "c = "
   ]
  },
  {
   "cell_type": "markdown",
   "metadata": {},
   "source": [
    "#### 2) Print all values in rows 2 & 3"
   ]
  },
  {
   "cell_type": "code",
   "execution_count": null,
   "metadata": {},
   "outputs": [],
   "source": [
    "# Print all values in rows 2 & 3\n",
    "print()"
   ]
  },
  {
   "cell_type": "markdown",
   "metadata": {},
   "source": [
    "#### 3) Print the values in the 2nd row and in cols 1 & 3"
   ]
  },
  {
   "cell_type": "code",
   "execution_count": null,
   "metadata": {},
   "outputs": [],
   "source": [
    "# Print the values in the 2nd row and in cols 1 & 3\n"
   ]
  },
  {
   "cell_type": "markdown",
   "metadata": {},
   "source": [
    "#### 4) Perform a scalar multiplication of c with 4"
   ]
  },
  {
   "cell_type": "code",
   "execution_count": null,
   "metadata": {},
   "outputs": [],
   "source": [
    "# Perform a scalar multiplication of c with 4\n"
   ]
  },
  {
   "cell_type": "markdown",
   "metadata": {},
   "source": [
    "#### 5) Transpose c"
   ]
  },
  {
   "cell_type": "code",
   "execution_count": null,
   "metadata": {},
   "outputs": [],
   "source": [
    "# Transpose c\n"
   ]
  },
  {
   "cell_type": "markdown",
   "metadata": {},
   "source": [
    "#### 6) Reshape c to a 4 x 3 array\n",
    "What is the difference between the transpose and reshape operations?"
   ]
  },
  {
   "cell_type": "code",
   "execution_count": null,
   "metadata": {},
   "outputs": [],
   "source": [
    "# Reshape c to a 4 x 3 array\n"
   ]
  },
  {
   "cell_type": "markdown",
   "metadata": {},
   "source": [
    "#### 7) Perform an element-wise multiplication of the reshaped c and transposed c"
   ]
  },
  {
   "cell_type": "code",
   "execution_count": null,
   "metadata": {},
   "outputs": [],
   "source": [
    "# Perform an element-wise multiplication of the reshaped c and transposed c\n"
   ]
  },
  {
   "cell_type": "markdown",
   "metadata": {},
   "source": [
    "### Random\n",
    "Random number generation plays a crucial role in configuring and evaluating many numerical and machine learning algorithms. Whether it's for randomly initializing weights in a neural network, splitting data into random subsets, or shuffling a dataset, the ability to generate random numbers (specifically repeatable pseudo-random numbers) is vital."
   ]
  },
  {
   "cell_type": "markdown",
   "metadata": {},
   "source": [
    "#### 8) Create a half hourly power profile for 1 year filled with random numbers between 0 and 50"
   ]
  },
  {
   "cell_type": "code",
   "execution_count": null,
   "metadata": {},
   "outputs": [],
   "source": [
    "# create a half hourly power profile for 1 year filled with random numbers between 0 and 50\n"
   ]
  },
  {
   "cell_type": "markdown",
   "metadata": {},
   "source": [
    "#### 9) Reshape the array into daily half hour profiles"
   ]
  },
  {
   "cell_type": "code",
   "execution_count": null,
   "metadata": {},
   "outputs": [],
   "source": [
    "# reshape the array into daily half hour profiles\n"
   ]
  },
  {
   "cell_type": "markdown",
   "metadata": {},
   "source": [
    "#### 10) convert this array to energy"
   ]
  },
  {
   "cell_type": "code",
   "execution_count": null,
   "metadata": {},
   "outputs": [],
   "source": [
    "# convert to energy\n"
   ]
  },
  {
   "cell_type": "markdown",
   "metadata": {},
   "source": [
    "  \n",
    "#### Animation and Code Sources  \n",
    "\n",
    "Numpy GIF: <a href=\"https://matteding.github.io/images/broadcasting-3d-scalar.gif\">Matt Eding</a>  \n"
   ]
  },
  {
   "cell_type": "code",
   "execution_count": null,
   "metadata": {},
   "outputs": [],
   "source": []
  },
  {
   "cell_type": "code",
   "execution_count": null,
   "metadata": {},
   "outputs": [],
   "source": []
  }
 ],
 "metadata": {
  "anaconda-cloud": {},
  "kernelspec": {
   "display_name": "my_first_env",
   "language": "python",
   "name": "python3"
  },
  "language_info": {
   "codemirror_mode": {
    "name": "ipython",
    "version": 3
   },
   "file_extension": ".py",
   "mimetype": "text/x-python",
   "name": "python",
   "nbconvert_exporter": "python",
   "pygments_lexer": "ipython3",
   "version": "3.12.12"
  }
 },
 "nbformat": 4,
 "nbformat_minor": 4
}
